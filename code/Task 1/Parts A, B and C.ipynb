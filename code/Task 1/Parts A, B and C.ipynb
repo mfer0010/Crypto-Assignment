{
 "cells": [
  {
   "cell_type": "code",
   "execution_count": 152,
   "metadata": {},
   "outputs": [
    {
     "name": "stdout",
     "output_type": "stream",
     "text": [
      "Once deleted, variables cannot be recovered. Proceed (y/[n])? y\n"
     ]
    }
   ],
   "source": [
    "%reset\n",
    "\n",
    "from Crypto.Cipher import AES\n",
    "from Crypto.Util.Padding import pad\n",
    "from Crypto.Util.Padding import unpad\n",
    "from Crypto.Random import get_random_bytes\n",
    "from base64 import b16encode\n",
    "from base64 import b16decode\n",
    "import os\n",
    "import json\n",
    "import hmac\n",
    "import hashlib"
   ]
  },
  {
   "cell_type": "code",
   "execution_count": 153,
   "metadata": {},
   "outputs": [
    {
     "name": "stdout",
     "output_type": "stream",
     "text": [
      "205E7F4E5286306EEFABB7625CF6EEFD\n"
     ]
    }
   ],
   "source": [
    "#Initialize Data\n",
    "data = b\"Accnt:0003336669Accnt:0123456789Descr:0000000000000000000000000000000000000000000000000000000000Amount:023456789\"\n",
    "key = get_random_bytes(16)\n",
    "print(b16encode(key).decode('utf-8'))"
   ]
  },
  {
   "cell_type": "markdown",
   "metadata": {},
   "source": [
    "# Task A\n",
    "Encrypt in ECB Mode:"
   ]
  },
  {
   "cell_type": "code",
   "execution_count": 154,
   "metadata": {},
   "outputs": [
    {
     "name": "stdout",
     "output_type": "stream",
     "text": [
      "4CDEB5515885FEC7390A48D4F9747BD53A309C3CA17838A5A1FD18A9A433737E9D35FE123067946375B9B59FAD318E1CE9C1DC732606DAA7644898E4D577B90DE9C1DC732606DAA7644898E4D577B90DE9C1DC732606DAA7644898E4D577B90DBD18D9394E2B939E4EA7D9E8C14C0B04FAF69C2C9877EE7A8805287F5B34C232\n"
     ]
    }
   ],
   "source": [
    "ECB_cipher = AES.new(key, AES.MODE_ECB) #Create a new AES Cypher\n",
    "ciphertext_bytes = ECB_cipher.encrypt(pad(data, AES.block_size)) #encrypt the padded data\n",
    "#Encode the cyphertext to 16 bit encoding to have a more clear output\n",
    "#use the decode function to remove the b'...' in the output\n",
    "ciphertext = b16encode(ciphertext_bytes).decode('utf-8')\n",
    "print(ciphertext)"
   ]
  },
  {
   "cell_type": "markdown",
   "metadata": {},
   "source": [
    "Decrypt to ensure everything is working properly:"
   ]
  },
  {
   "cell_type": "code",
   "execution_count": 155,
   "metadata": {},
   "outputs": [
    {
     "name": "stdout",
     "output_type": "stream",
     "text": [
      "b'Accnt:0003336669Accnt:0123456789Descr:0000000000000000000000000000000000000000000000000000000000Amount:023456789'\n"
     ]
    }
   ],
   "source": [
    "decoded_ciphertext = b16decode(ciphertext) \n",
    "decrypted_text = unpad(ECB_cipher.decrypt(decoded_ciphertext), AES.block_size)\n",
    "print(decrypted_text)"
   ]
  },
  {
   "cell_type": "markdown",
   "metadata": {},
   "source": [
    "Demonstrate Attack:"
   ]
  },
  {
   "cell_type": "code",
   "execution_count": 156,
   "metadata": {},
   "outputs": [
    {
     "name": "stdout",
     "output_type": "stream",
     "text": [
      "Accnt:0123456789Accnt:0003336669Descr:0000000000000000000000000000000000000000000000000000000000Amount:023456789\n"
     ]
    }
   ],
   "source": [
    "#Swap the account numbers to reverse the direction of the transfer\n",
    "modified_ciphertext = ''.join([ciphertext[32:64], ciphertext[0:32], ciphertext[64:]])\n",
    "#decrypt message:\n",
    "modified_result = unpad(ECB_cipher.decrypt(b16decode(modified_ciphertext)), AES.block_size)\n",
    "print(modified_result.decode('utf-8'))"
   ]
  },
  {
   "cell_type": "markdown",
   "metadata": {},
   "source": [
    "# Task B\n",
    "Encrypt in CBC Mode"
   ]
  },
  {
   "cell_type": "code",
   "execution_count": 157,
   "metadata": {},
   "outputs": [
    {
     "name": "stdout",
     "output_type": "stream",
     "text": [
      "{\"iv\": \"BC60BB0C6BD4EC75EAE62683F732C89F\", \"ciphertext\": \"77F0FAD593A9DBA008639D01BD9AC24939136D308CDF5C6231B8E3E2014797DBE85EDE39FB4F26B571D78B45DE2CC25C441EB585357F145B1ED3929F4CF2615CBACAA22F4E1C4EF1B8E8730A6EE4D89F607F3391BA16CB837E961755441BB629508777639FC7A7FD179AF69D2F526ADF653E1032E5493CA86E241F417B88CB03\"}\n"
     ]
    }
   ],
   "source": [
    "iv = os.urandom(16) #initializing vector\n",
    "CBC_cipher = AES.new(key, AES.MODE_CBC,iv) #Create new AEC Cipher in CBC mode\n",
    "ciphertext_bytes = CBC_cipher.encrypt(pad(data, AES.block_size)) #Encrypt padded data\n",
    "#Encode the cyphertext to 16 bit encoding to have a more clear output\n",
    "#use the decode function to remove the b'...' in the output\n",
    "CBC_ciphertext = b16encode(ciphertext_bytes).decode('utf-8')\n",
    "#Save as Json in order to simulate passing the whole thing over the network\n",
    "json_data = json.dumps({'iv':b16encode(iv).decode('utf-8'), 'ciphertext':CBC_ciphertext})\n",
    "print(json_data)"
   ]
  },
  {
   "cell_type": "markdown",
   "metadata": {},
   "source": [
    "Decrypt to ensure everything is working properly:"
   ]
  },
  {
   "cell_type": "code",
   "execution_count": 158,
   "metadata": {},
   "outputs": [
    {
     "name": "stdout",
     "output_type": "stream",
     "text": [
      "b'Accnt:0003336669Accnt:0123456789Descr:0000000000000000000000000000000000000000000000000000000000Amount:023456789'\n"
     ]
    }
   ],
   "source": [
    "#Read the data from the json file\n",
    "b16 = json.loads(json_data)\n",
    "iv = b16decode(b16['iv'])\n",
    "#Create a new Cipher for decryption using the same key and iv\n",
    "CBC_cipher2 = AES.new(key, AES.MODE_CBC, iv)\n",
    "#Decode, unpad and display the results\n",
    "CBC_dec_ciphertext = b16decode(b16['ciphertext'])\n",
    "CBC_decoded_plaintext = unpad(CBC_cipher2.decrypt(CBC_dec_ciphertext),AES.block_size)\n",
    "print(CBC_decoded_plaintext)"
   ]
  },
  {
   "cell_type": "markdown",
   "metadata": {},
   "source": [
    "XOR Function to be used in attack:"
   ]
  },
  {
   "cell_type": "code",
   "execution_count": 159,
   "metadata": {},
   "outputs": [],
   "source": [
    "def xor(A, B):\n",
    "    return hex(int(A, 16) ^ int(B, 16))[2:].upper() "
   ]
  },
  {
   "cell_type": "markdown",
   "metadata": {},
   "source": [
    "Demonstrate the attack:"
   ]
  },
  {
   "cell_type": "code",
   "execution_count": 160,
   "metadata": {},
   "outputs": [
    {
     "name": "stdout",
     "output_type": "stream",
     "text": [
      "{\"iv\": \"BC60BB0C6BD4EC75EAE62683F732C89F\", \"ciphertext\": \"77F0FAD593A9DBA008639D01BD9AC24939136D308CDF5C6231B8E3E2014797DBE85EDE39FB4F26B571D78B45DE2CC25C441EB585357F145B1ED3929F4CF2615CBACAA22F4E1C4EF1B8E8730A6EE4D89F607F3391BA16CB8A7E961755441BB629508777639FC7A7FD179AF69D2F526ADF653E1032E5493CA86E241F417B88CB03\"}\n"
     ]
    }
   ],
   "source": [
    "#Attacker can also reda the data from the json file\n",
    "Oscar_b16 = json.loads(json_data)\n",
    "Oscar_ciphertext = Oscar_b16['ciphertext']\n",
    "Oscar_iv = Oscar_b16['iv']\n",
    "block_to_alter = Oscar_ciphertext[160:192] #block containing amount\n",
    "byte_to_change = block_to_alter[14:16] #amount\n",
    "\n",
    "#xor 1st bit of plaintext with the hex value you want in new plaintext\n",
    "m = xor('0x30', '0x39') #0x30 is decimal 0, 0x39 is decimal 9\n",
    "\n",
    "#perform bit flipping\n",
    "new_byte = xor(hex(int(m, 16)), hex(int(byte_to_change, 16)))\n",
    "while len(new_byte) < 2:\n",
    "    new_byte = \"\".join(['0', new_byte])\n",
    "attacked_ciphertext = ''.join([Oscar_ciphertext[0:174], new_byte, Oscar_ciphertext[176:]]) \n",
    "\n",
    "result = json.dumps({'iv':Oscar_iv, 'ciphertext':attacked_ciphertext})\n",
    "\n",
    "print(result)"
   ]
  },
  {
   "cell_type": "markdown",
   "metadata": {},
   "source": [
    "Decode the attack:"
   ]
  },
  {
   "cell_type": "code",
   "execution_count": 161,
   "metadata": {},
   "outputs": [
    {
     "name": "stdout",
     "output_type": "stream",
     "text": [
      "b'Accnt:0003336669Accnt:0123456789Descr:000000000000000000000000000000000000000000\\xbbs\\x14\\x81\\x92xC\\x975\\xbfb\\xdf\\xaa\\\\\\xc8DAmount:923456789'\n"
     ]
    }
   ],
   "source": [
    "#Create a new Cipher for decryption using the same key and iv\n",
    "CBC_cipher_Oscar = AES.new(key, AES.MODE_CBC,b16decode(Oscar_iv))\n",
    "#Decode, unpad and display the results\n",
    "CBC_dec_ciphertext = b16decode(attacked_ciphertext)\n",
    "CBC_decoded_plaintext = unpad(CBC_cipher_Oscar.decrypt(CBC_dec_ciphertext),AES.block_size)\n",
    "print(CBC_decoded_plaintext)"
   ]
  },
  {
   "cell_type": "markdown",
   "metadata": {},
   "source": [
    "# Task C\n",
    "Set up function to compare MACs"
   ]
  },
  {
   "cell_type": "code",
   "execution_count": 162,
   "metadata": {},
   "outputs": [],
   "source": [
    "def compare_mac(a, b):\n",
    "    a = a[1:] \n",
    "    b = b[1:]\n",
    "    different = 0\n",
    "    \n",
    "    for x, y in zip(a, b):\n",
    "        different |= x ^ y\n",
    "    return different == 0"
   ]
  },
  {
   "cell_type": "markdown",
   "metadata": {},
   "source": [
    "Encrypt messag in CBC mode but add MAC with HMAC-SHA256"
   ]
  },
  {
   "cell_type": "code",
   "execution_count": 163,
   "metadata": {},
   "outputs": [
    {
     "name": "stdout",
     "output_type": "stream",
     "text": [
      "Encrypted Data:176588156FE4A6C27BBA3AFA5B4C769E2B070CCD2BBA766C6BAD0783EA5982125EE9ED55298AA6A9BED32AC2B28C20FE35B0D6585DE2CE3F9493B5D0683090E1EEC665EFDC7B7175DB68CC6F70C5F7029145FFD2A117E44CF2F7FF9A359C9F0D438E2366CAC8575ED9CBD0AEF72C16D1DB6D37749E9A894940A94E3945E96A7C\n",
      "IV: D4765BBD0E0B5CC66790A39B8E1AC3CB\n",
      "Signature: 2702B38C869BADB83920DF8D4138FE307D43C945FAFA48B3AB574456FA16A8E8\n"
     ]
    }
   ],
   "source": [
    "hmac_key = get_random_bytes(16)\n",
    "plaintext = pad(data, AES.block_size)\n",
    "iv_bytes = get_random_bytes(AES.block_size)\n",
    "HMAC_cipher = AES.new(key, AES.MODE_CBC, iv_bytes)\n",
    "encrypted_data = HMAC_cipher.encrypt(plaintext)\n",
    "iv = iv_bytes + encrypted_data #secret prefix mac\n",
    "signature = hmac.new(hmac_key, iv, hashlib.sha256).digest()\n",
    "print('Encrypted Data:' + b16encode(encrypted_data).decode('utf-8'))\n",
    "print('IV: ' + b16encode(iv_bytes).decode('utf-8'))\n",
    "print('Signature: ' + b16encode(signature).decode('utf-8'))"
   ]
  },
  {
   "cell_type": "markdown",
   "metadata": {},
   "source": [
    "Verify signature and decrypt if message hasn't been tampered with"
   ]
  },
  {
   "cell_type": "code",
   "execution_count": 164,
   "metadata": {},
   "outputs": [
    {
     "name": "stdout",
     "output_type": "stream",
     "text": [
      "Accnt:0003336669Accnt:0123456789Descr:0000000000000000000000000000000000000000000000000000000000Amount:023456789\n"
     ]
    }
   ],
   "source": [
    "new_hmac = hmac.new(hmac_key, iv, hashlib.sha256).digest()\n",
    "if not compare_mac(new_hmac, signature):\n",
    " \tprint(\"Incorrect decryption\")\n",
    "cipher = AES.new(key, AES.MODE_CBC, iv_bytes)\n",
    "dec_plaintext = cipher.decrypt(encrypted_data)\n",
    "print(unpad(dec_plaintext, AES.block_size).decode('utf-8'))"
   ]
  }
 ],
 "metadata": {
  "kernelspec": {
   "display_name": "Python 3",
   "language": "python",
   "name": "python3"
  },
  "language_info": {
   "codemirror_mode": {
    "name": "ipython",
    "version": 3
   },
   "file_extension": ".py",
   "mimetype": "text/x-python",
   "name": "python",
   "nbconvert_exporter": "python",
   "pygments_lexer": "ipython3",
   "version": "3.7.1"
  }
 },
 "nbformat": 4,
 "nbformat_minor": 2
}
