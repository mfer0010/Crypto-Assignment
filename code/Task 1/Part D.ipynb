{
 "cells": [
  {
   "cell_type": "code",
   "execution_count": 1,
   "metadata": {},
   "outputs": [
    {
     "name": "stdout",
     "output_type": "stream",
     "text": [
      "Once deleted, variables cannot be recovered. Proceed (y/[n])? y\n"
     ]
    }
   ],
   "source": [
    "%reset\n",
    "\n",
    "from Crypto.Cipher import AES\n",
    "from Crypto.Util.Padding import pad\n",
    "from Crypto.Util.Padding import unpad\n",
    "from Crypto.Random import get_random_bytes\n",
    "from base64 import b16encode\n",
    "from base64 import b16decode\n",
    "import os\n",
    "import json\n",
    "import hmac\n",
    "import hashlib"
   ]
  },
  {
   "cell_type": "code",
   "execution_count": 2,
   "metadata": {},
   "outputs": [
    {
     "name": "stdout",
     "output_type": "stream",
     "text": [
      "D5C1B08852BE1B16826CE899767449D7\n"
     ]
    }
   ],
   "source": [
    "#Initialize Data\n",
    "data = b\"Accnt:0003336669Accnt:0123456789Descr:0000000000000000000000000000000000000000000000000000000000Amount:023456789\"\n",
    "key = get_random_bytes(16)\n",
    "print(b16encode(key).decode('utf-8'))"
   ]
  },
  {
   "cell_type": "markdown",
   "metadata": {},
   "source": [
    "# Task D"
   ]
  },
  {
   "cell_type": "code",
   "execution_count": 3,
   "metadata": {},
   "outputs": [],
   "source": [
    "def xor(A, B):\n",
    "    return hex(int(A, 16) ^ int(B, 16))[2:].upper() "
   ]
  },
  {
   "cell_type": "code",
   "execution_count": 4,
   "metadata": {},
   "outputs": [],
   "source": [
    "#Like Task B's attack\n",
    "def attack(data):\n",
    "\tb16 = json.loads(data)\n",
    "\tciphertext = b16['ct']\n",
    "\tiv = b16['iv']\n",
    "\tblock_to_alter = ciphertext[160:192] \n",
    "\tbyte_to_change = block_to_alter[14:16]\n",
    "\t\n",
    "\tm = xor('0x30', '0x39')\n",
    "\t\n",
    "\t#perform bit flipping\n",
    "\tnew_byte = xor(hex(int(m, 16)), hex(int(byte_to_change, 16)))\n",
    "\twhile len(new_byte) < 2:\n",
    "\t    new_byte = \"\".join(['0', new_byte])\n",
    "\tnew_ciphertext = ''.join([ciphertext[0:174], new_byte, ciphertext[176:]]) \n",
    "\t\n",
    "\tresult = json.dumps({'iv':iv, 'ct':new_ciphertext})\n",
    "\treturn result"
   ]
  },
  {
   "cell_type": "code",
   "execution_count": 12,
   "metadata": {},
   "outputs": [],
   "source": [
    "#Like Task C's Decryption\n",
    "def decrypt_message(encrypted_data, iv_bytes, signature, shared_key, hmac_key):\n",
    "    iv = iv_bytes + encrypted_data\n",
    "    new_hmac = hmac.new(hmac_key, iv, hashlib.sha256).digest()\n",
    "    if not compare_mac(new_hmac, signature):\n",
    "    \tprint(\"Attack!\")\n",
    "    cypher = AES.new(shared_key, AES.MODE_CBC, iv_bytes)\n",
    "    plaintext = cypher.decrypt(encrypted_data)\n",
    "    return unpad(plaintext, AES.block_size)"
   ]
  },
  {
   "cell_type": "code",
   "execution_count": 7,
   "metadata": {},
   "outputs": [],
   "source": [
    "def compare_mac(a, b):\n",
    "    a = a[1:] \n",
    "    b = b[1:]\n",
    "    different = 0\n",
    "    \n",
    "    for x, y in zip(a, b):\n",
    "        different |= x ^ y\n",
    "    return different == 0"
   ]
  },
  {
   "cell_type": "markdown",
   "metadata": {},
   "source": [
    "Encode Using CBC_HMAC:"
   ]
  },
  {
   "cell_type": "code",
   "execution_count": 8,
   "metadata": {},
   "outputs": [
    {
     "name": "stdout",
     "output_type": "stream",
     "text": [
      "Encrypted Data:544195CEDF2666C4D8726A5527B3D41447DA38EF10CFB99F7A8141341FDB851159D45D327B25A385D755B947DF27E65333273F05797580678012AF4BF9EE1CEA9ABA6EE9BD9BA18E1AAD00E3CB6C2DC85B3AF613BB9FC4EF503601418C925A12E37BFF56A6CDEA4BBFFC3C97BB3E358E707C5026920B580AEE235768F9C0D958\n",
      "IV: 34A9D50FCA425EDC4D41F6560F000DB7\n",
      "Signature: 1C49BEE47F37DD90E16DD2545E304CB73F82021C02481FDA8F08576B5A135AC3\n"
     ]
    }
   ],
   "source": [
    "hmac_key = get_random_bytes(16)\n",
    "plaintext = pad(data, AES.block_size)\n",
    "iv_bytes = get_random_bytes(AES.block_size)\n",
    "HMAC_cipher = AES.new(key, AES.MODE_CBC, iv_bytes)\n",
    "encrypted_data = HMAC_cipher.encrypt(plaintext)\n",
    "iv = iv_bytes + encrypted_data #secret prefix mac\n",
    "signature = hmac.new(hmac_key, iv, hashlib.sha256).digest()\n",
    "print('Encrypted Data:' + b16encode(encrypted_data).decode('utf-8'))\n",
    "print('IV: ' + b16encode(iv_bytes).decode('utf-8'))\n",
    "print('Signature: ' + b16encode(signature).decode('utf-8'))"
   ]
  },
  {
   "cell_type": "markdown",
   "metadata": {},
   "source": [
    "# Tamper Attack:"
   ]
  },
  {
   "cell_type": "code",
   "execution_count": 13,
   "metadata": {},
   "outputs": [
    {
     "name": "stdout",
     "output_type": "stream",
     "text": [
      "Attack!\n"
     ]
    },
    {
     "data": {
      "text/plain": [
       "b'Accnt:0003336669Accnt:0123456789Descr:000000000000000000000000000000000000000000\\x80\\xe0\\x9eV\\x8e\\xe7\\xd8\\x14\\xb3\\xe2:\\n\\x07=\\x0e\\x03Amount:923456789'"
      ]
     },
     "execution_count": 13,
     "metadata": {},
     "output_type": "execute_result"
    }
   ],
   "source": [
    "iv = b16encode(iv_bytes).decode('utf-8')\n",
    "ciphertext = b16encode(encrypted_data).decode('utf-8')\n",
    "ct_json = json.dumps({'iv': iv, 'ct': ciphertext})\n",
    "altered_ciphertext = attack(ct_json)\n",
    "altered_ciphertext = b16decode(json.loads(altered_ciphertext)['ct'])\n",
    "decrypt_message(altered_ciphertext, iv_bytes, signature, key, hmac_key)"
   ]
  },
  {
   "cell_type": "markdown",
   "metadata": {},
   "source": [
    "# Replay Attack:"
   ]
  },
  {
   "cell_type": "code",
   "execution_count": 15,
   "metadata": {},
   "outputs": [
    {
     "name": "stdout",
     "output_type": "stream",
     "text": [
      "Attack!\n"
     ]
    },
    {
     "data": {
      "text/plain": [
       "b\"7\\x16\\x9e\\x83\\xa8\\xb7\\xd7s\\x07\\xf0\\x87R \\xeb\\xb8\\x960000000000000000F\\xed\\x89d\\xc7\\r\\xee\\x8b\\xfd`j.\\xc0\\xd8'dAccnt:0123456789D\\xcd7\\xdaY\\x8a\\t\\xc8\\xca\\xa3\\xdeO\\xd6\\x05\\xa9\\xcb0000000000000000Amount:023456789\""
      ]
     },
     "execution_count": 15,
     "metadata": {},
     "output_type": "execute_result"
    }
   ],
   "source": [
    "altered_ciphertext = b\"\".join([encrypted_data[32:64], encrypted_data[0:32], encrypted_data[64:]])\n",
    "decrypt_message(altered_ciphertext, iv_bytes, signature, key, hmac_key)"
   ]
  }
 ],
 "metadata": {
  "kernelspec": {
   "display_name": "Python 3",
   "language": "python",
   "name": "python3"
  },
  "language_info": {
   "codemirror_mode": {
    "name": "ipython",
    "version": 3
   },
   "file_extension": ".py",
   "mimetype": "text/x-python",
   "name": "python",
   "nbconvert_exporter": "python",
   "pygments_lexer": "ipython3",
   "version": "3.7.1"
  }
 },
 "nbformat": 4,
 "nbformat_minor": 2
}
