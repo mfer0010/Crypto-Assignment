{
 "cells": [
  {
   "cell_type": "code",
   "execution_count": 77,
   "metadata": {},
   "outputs": [
    {
     "name": "stdin",
     "output_type": "stream",
     "text": [
      "Once deleted, variables cannot be recovered. Proceed (y/[n])?  y\n"
     ]
    }
   ],
   "source": [
    "%reset\n",
    "from Crypto.PublicKey import RSA\n",
    "import random"
   ]
  },
  {
   "cell_type": "code",
   "execution_count": 78,
   "metadata": {},
   "outputs": [],
   "source": [
    "#Setting up FS\n",
    "#Generate n:\n",
    "key = RSA.generate(2048,e=65537) #nbits = 2048 (Sufficient length for 2017), e -> FIPS Standard\n",
    "#save the secure key to a file to only be accessed by Rene\n",
    "passphrase = 'Str0ngPassw0rd!%'\n",
    "f = open('mykey.pem','wb')\n",
    "f.write(key.exportKey('PEM',passphrase=passphrase)) #Use a passphrase since \n",
    "f.close()\n",
    "n = key.n #assume n is public knowledge\n",
    "\n",
    "#Rene will then generate s, which lies in integer ring (Z_n)\n",
    "s = random.randint(1,key.n+1)\n",
    "#Assume this is sent to Alice and Bob over a secure channel\n",
    "\n",
    "#Delete Secrets:\n",
    "del key\n",
    "del passphrase \n",
    "#Authorised parties will then be given mykey.pem and with knowledge of the passphrase will\n",
    "#have access to the secure key"
   ]
  },
  {
   "cell_type": "code",
   "execution_count": 79,
   "metadata": {},
   "outputs": [],
   "source": [
    "#Rene:\n",
    "#get the key\n",
    "f = open('mykey.pem','r')\n",
    "Rene_key = RSA.importKey(f.read(),passphrase='Str0ngPassw0rd!%')\n",
    "f.close()\n",
    "#set v\n",
    "v = (s**2)%Rene_key.n"
   ]
  },
  {
   "cell_type": "code",
   "execution_count": 80,
   "metadata": {},
   "outputs": [],
   "source": [
    "t = 100\n",
    "for i in range(t):\n",
    "    #Interactive Protocol\n",
    "    #Alice\n",
    "    #pick random r\n",
    "    r = random.randint(1,n+1)\n",
    "    x = (r**2)%n #compute x\n",
    "    #x is now sent to Rene\n",
    "\n",
    "    #Rene\n",
    "    e = random.randint(0,1)\n",
    "    #e is sent to Alice\n",
    "\n",
    "    #Alice\n",
    "    #if (i == 97):\n",
    "    #    s = random.randint(1,n+1) #bad secret key\n",
    "    y = (r*(s**e)) % n\n",
    "    #y is sent to Rene\n",
    "\n",
    "    #Rene:\n",
    "    if (y**2 % n != (x*(v**e))%n):\n",
    "        print('Attack!')\n",
    "        break"
   ]
  }
 ],
 "metadata": {
  "kernelspec": {
   "display_name": "Python 3",
   "language": "python",
   "name": "python3"
  },
  "language_info": {
   "codemirror_mode": {
    "name": "ipython",
    "version": 3
   },
   "file_extension": ".py",
   "mimetype": "text/x-python",
   "name": "python",
   "nbconvert_exporter": "python",
   "pygments_lexer": "ipython3",
   "version": "3.7.1"
  }
 },
 "nbformat": 4,
 "nbformat_minor": 2
}
